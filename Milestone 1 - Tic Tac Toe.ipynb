{
 "cells": [
  {
   "cell_type": "code",
   "execution_count": 10,
   "metadata": {},
   "outputs": [
    {
     "name": "stdout",
     "output_type": "stream",
     "text": [
      "X 2 3\n",
      "4 5 6\n",
      "7 8 O\n"
     ]
    }
   ],
   "source": [
    "from IPython.display import clear_output\n",
    "\n",
    "board_list = ['0']\n",
    "index = 1\n",
    "while index < 11:\n",
    "    board_list.append(str(index))\n",
    "    index += 1\n",
    "\n",
    "def show_board():\n",
    "    print board_list[1] + ' ' + board_list[2] + ' ' + board_list[3]\n",
    "    print board_list[4] + ' ' + board_list[5] + ' ' + board_list[6]\n",
    "    print board_list[7] + ' ' + board_list[8] + ' ' + board_list[9]\n",
    "\n",
    "def update_board(player):\n",
    "    retry = True\n",
    "    \n",
    "    if player == 1:\n",
    "        pos = input(\"Input Player1 position for X:\")\n",
    "    else:\n",
    "        pos = input(\"Input Player2 position for O:\")\n",
    "   \n",
    "    while retry:\n",
    "        if pos < 1 or pos > 9:\n",
    "            print \"Invalid Position! You need to pick a position between 1 and 9.\"\n",
    "            if player == 1:\n",
    "                pos = input(\"Input Player1 position for X:\")\n",
    "            else:\n",
    "                pos = input(\"Input Player2 position for O:\")\n",
    "        elif board_list[pos] == 'X' or board_list == 'O':\n",
    "            print \"That position is already used! Choose another.\"\n",
    "            if player == 1:\n",
    "                pos = input(\"Input Player1 position for X:\")\n",
    "            else:\n",
    "                pos = input(\"Input Player2 position for O:\")\n",
    "        else:\n",
    "            retry = False\n",
    "            \n",
    "    if player == 1:\n",
    "        board_list[pos] = 'X'\n",
    "    else:\n",
    "        board_list[pos] = 'O'\n",
    "\n",
    "\n",
    "show_board()\n",
    "update_board(1)\n",
    "clear_output()\n",
    "show_board()\n",
    "update_board(2)\n",
    "clear_output()\n",
    "show_board()\n",
    "\n"
   ]
  },
  {
   "cell_type": "code",
   "execution_count": null,
   "metadata": {
    "collapsed": true
   },
   "outputs": [],
   "source": [
    "1"
   ]
  }
 ],
 "metadata": {
  "kernelspec": {
   "display_name": "Python 2",
   "language": "python",
   "name": "python2"
  }
 },
 "nbformat": 4,
 "nbformat_minor": 2
}
