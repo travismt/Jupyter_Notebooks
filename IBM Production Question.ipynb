{
 "cells": [
  {
   "cell_type": "code",
   "execution_count": 3,
   "metadata": {},
   "outputs": [
    {
     "name": "stdout",
     "output_type": "stream",
     "text": [
      "2017-11-01, 3, peach\n",
      "2017-11-01, 4, apple\n",
      "2017-11-02, 1, pinapple\n",
      "2017-11-02, 2, banana\n"
     ]
    }
   ],
   "source": [
    "import sys\n",
    "\n",
    "my_file = open('production.txt')\n",
    "\n",
    "line = my_file.read()\n",
    "\n",
    "while line != '':\n",
    "    print line\n",
    "    line = my_file.read()"
   ]
  },
  {
   "cell_type": "code",
   "execution_count": null,
   "metadata": {
    "collapsed": true
   },
   "outputs": [],
   "source": []
  }
 ],
 "metadata": {
  "kernelspec": {
   "display_name": "Python 2",
   "language": "python",
   "name": "python2"
  },
  "language_info": {
   "codemirror_mode": {
    "name": "ipython",
    "version": 2
   },
   "file_extension": ".py",
   "mimetype": "text/x-python",
   "name": "python",
   "nbconvert_exporter": "python",
   "pygments_lexer": "ipython2",
   "version": "2.7.14"
  }
 },
 "nbformat": 4,
 "nbformat_minor": 2
}
