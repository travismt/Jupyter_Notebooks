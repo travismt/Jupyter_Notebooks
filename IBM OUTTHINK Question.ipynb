{
 "cells": [
  {
   "cell_type": "code",
   "execution_count": 29,
   "metadata": {},
   "outputs": [
    {
     "name": "stdout",
     "output_type": "stream",
     "text": [
      "1\n",
      "2\n",
      "OUTTHINK\n",
      "OUTTHINK\n",
      "5\n",
      "OUT\n",
      "7\n",
      "OUT\n",
      "OUT\n",
      "10\n",
      "11\n",
      "OUT\n",
      "THINK\n",
      "THINK\n",
      "OUT\n",
      "OUT\n",
      "17\n",
      "OUT\n",
      "19\n",
      "OUT\n",
      "OUT\n",
      "22\n",
      "THINK\n",
      "OUTTHINK\n",
      "25\n"
     ]
    }
   ],
   "source": [
    "import sys\n",
    "\n",
    "sys.stdin = '25 3 4'\n",
    "\n",
    "numbers = sys.stdin.split()\n",
    "N_str = numbers[0]\n",
    "p_str = numbers[1]\n",
    "q_str = numbers[2]\n",
    "\n",
    "N_int = int(N_str)\n",
    "p_int = int(p_str)\n",
    "q_int = int(q_str)\n",
    "\n",
    "out = ''\n",
    "for num in range(1,N_int+1):\n",
    "    if (num % p == 0 or num % q == 0) and (p_str in str(num) or q_str in str(num)):\n",
    "        out = 'OUTTHINK'\n",
    "    elif (num % p == 0 or num % q == 0):\n",
    "        out = 'OUT'\n",
    "    elif (p_str in str(num) or q_str in str(num)):\n",
    "        out = 'THINK'\n",
    "    else:\n",
    "        out = str(num)\n",
    "    print out \n",
    "    \n",
    "   \n",
    "    \n",
    "\n"
   ]
  },
  {
   "cell_type": "code",
   "execution_count": null,
   "metadata": {
    "collapsed": true
   },
   "outputs": [],
   "source": []
  }
 ],
 "metadata": {
  "kernelspec": {
   "display_name": "Python 2",
   "language": "python",
   "name": "python2"
  },
  "language_info": {
   "codemirror_mode": {
    "name": "ipython",
    "version": 2
   },
   "file_extension": ".py",
   "mimetype": "text/x-python",
   "name": "python",
   "nbconvert_exporter": "python",
   "pygments_lexer": "ipython2",
   "version": "2.7.14"
  }
 },
 "nbformat": 4,
 "nbformat_minor": 2
}
