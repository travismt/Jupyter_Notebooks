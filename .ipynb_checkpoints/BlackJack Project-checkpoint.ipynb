{
 "cells": [
  {
   "cell_type": "code",
   "execution_count": 106,
   "metadata": {},
   "outputs": [],
   "source": [
    "class Card(object):\n",
    "    \n",
    "    def __init__(self, suite, rank):\n",
    "        \n",
    "        self.suite = suite\n",
    "        self.rank = rank\n",
    "        \n",
    "    def __str__(self):\n",
    "        \n",
    "        return \"Suite: %s, Rank: %s\" %(self.suite,self.rank)\n",
    "                "
   ]
  },
  {
   "cell_type": "code",
   "execution_count": 109,
   "metadata": {},
   "outputs": [],
   "source": [
    "import random\n",
    "\n",
    "class Deck(object):\n",
    "    \n",
    "    def __init__(self):\n",
    "        h_cards = []\n",
    "        d_cards = []\n",
    "        s_cards = []\n",
    "        c_cards = []\n",
    "        for i in range(1,14):\n",
    "            c = Card('h', i)\n",
    "            h_cards.append(c)\n",
    "            c = Card('d', i)\n",
    "            d_cards.append(c)\n",
    "            c = Card('s', i)\n",
    "            s_cards.append(c)\n",
    "            c = Card('c', i)\n",
    "            c_cards.append(c)\n",
    "        self.cards = h_cards + d_cards + s_cards + c_cards\n",
    "        \n",
    "    def shuffle(self):\n",
    "        for i in range(1,101):\n",
    "            index1 = random.randint(1, 1000000) % 52\n",
    "            index2 = random.randint(1, 1000000) % 52\n",
    "            card1 = self.cards[index1]\n",
    "            card2 = self.cards[index2]\n",
    "            self.cards[index1] = card2\n",
    "            self.cards[index2] = card1"
   ]
  },
  {
   "cell_type": "code",
   "execution_count": 112,
   "metadata": {},
   "outputs": [
    {
     "name": "stdout",
     "output_type": "stream",
     "text": [
      "Suite: c, Rank: 1\n",
      "Suite: s, Rank: 10\n",
      "Suite: d, Rank: 1\n",
      "Suite: c, Rank: 11\n",
      "Suite: s, Rank: 2\n",
      "Suite: d, Rank: 9\n",
      "Suite: d, Rank: 5\n",
      "Suite: s, Rank: 7\n",
      "Suite: c, Rank: 7\n",
      "Suite: h, Rank: 2\n",
      "Suite: s, Rank: 8\n",
      "Suite: h, Rank: 11\n",
      "Suite: d, Rank: 2\n",
      "Suite: h, Rank: 6\n",
      "Suite: s, Rank: 9\n",
      "Suite: c, Rank: 4\n",
      "Suite: c, Rank: 10\n",
      "Suite: d, Rank: 10\n",
      "Suite: d, Rank: 11\n",
      "Suite: h, Rank: 9\n",
      "Suite: c, Rank: 9\n",
      "Suite: h, Rank: 4\n",
      "Suite: s, Rank: 12\n",
      "Suite: h, Rank: 10\n",
      "Suite: c, Rank: 2\n",
      "Suite: s, Rank: 5\n",
      "Suite: d, Rank: 6\n",
      "Suite: d, Rank: 3\n",
      "Suite: s, Rank: 13\n",
      "Suite: c, Rank: 13\n",
      "Suite: s, Rank: 6\n",
      "Suite: s, Rank: 3\n",
      "Suite: h, Rank: 1\n",
      "Suite: h, Rank: 13\n",
      "Suite: c, Rank: 6\n",
      "Suite: c, Rank: 12\n",
      "Suite: d, Rank: 13\n",
      "Suite: h, Rank: 7\n",
      "Suite: h, Rank: 5\n",
      "Suite: d, Rank: 8\n",
      "Suite: h, Rank: 12\n",
      "Suite: c, Rank: 3\n",
      "Suite: c, Rank: 5\n",
      "Suite: h, Rank: 3\n",
      "Suite: d, Rank: 4\n",
      "Suite: c, Rank: 8\n",
      "Suite: d, Rank: 7\n",
      "Suite: h, Rank: 8\n",
      "Suite: d, Rank: 12\n",
      "Suite: s, Rank: 4\n",
      "Suite: s, Rank: 1\n",
      "Suite: s, Rank: 11\n"
     ]
    }
   ],
   "source": [
    "d = Deck()\n",
    "d.shuffle()"
   ]
  },
  {
   "cell_type": "code",
   "execution_count": null,
   "metadata": {
    "collapsed": true
   },
   "outputs": [],
   "source": []
  },
  {
   "cell_type": "code",
   "execution_count": null,
   "metadata": {
    "collapsed": true
   },
   "outputs": [],
   "source": []
  }
 ],
 "metadata": {
  "kernelspec": {
   "display_name": "Python 2",
   "language": "python",
   "name": "python2"
  },
  "language_info": {
   "codemirror_mode": {
    "name": "ipython",
    "version": 2
   },
   "file_extension": ".py",
   "mimetype": "text/x-python",
   "name": "python",
   "nbconvert_exporter": "python",
   "pygments_lexer": "ipython2",
   "version": "2.7.14"
  }
 },
 "nbformat": 4,
 "nbformat_minor": 2
}
