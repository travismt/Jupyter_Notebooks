{
 "cells": [
  {
   "cell_type": "code",
   "execution_count": 3,
   "metadata": {},
   "outputs": [
    {
     "name": "stdout",
     "output_type": "stream",
     "text": [
      "1 2 3\n",
      "4 5 6\n",
      "7 8 9\n",
      "Player 1: Postion for your X?5\n",
      "1 2 3\n",
      "4 X 6\n",
      "7 8 9\n",
      "Player 2: Postion for your O?9\n",
      "1 2 3\n",
      "4 X 6\n",
      "7 8 O\n"
     ]
    }
   ],
   "source": [
    "from IPython.display import clear_output\n",
    "\n",
    "board_list = ['0']\n",
    "index = 1\n",
    "while index < 11:\n",
    "    board_list.append(str(index))\n",
    "    index += 1\n",
    "\n",
    "def show_board():\n",
    "    print board_list[1] + ' ' + board_list[2] + ' ' + board_list[3]\n",
    "    print board_list[4] + ' ' + board_list[5] + ' ' + board_list[6]\n",
    "    print board_list[7] + ' ' + board_list[8] + ' ' + board_list[9]\n",
    "\n",
    "def update_postion(player):\n",
    "    if player == 1:\n",
    "        pos = input(\"Input Player1 position for X:\")\n",
    "    else:\n",
    "        pos = input(\"Input Player2 position for O:\")\n",
    "        \n",
    "    retry = true\n",
    "    while retry:\n",
    "        if pos < 1 or pos > 9:\n",
    "            print \"Invalid Position! You need to pick a position between 1 and 9.\"\n",
    "        elif board_list[pos] == 'X' or board_list == 'O':\n",
    "            print \"That position is already used! Choose another.\"\n",
    "        else:\n",
    "            retry = false\n",
    "            \n",
    "    if player == 1:\n",
    "        board_list[pos] = 'X'\n",
    "    else:\n",
    "        board_list[pos] = 'X'\n",
    "\n",
    "\n",
    "\n"
   ]
  },
  {
   "cell_type": "code",
   "execution_count": null,
   "metadata": {
    "collapsed": true
   },
   "outputs": [],
   "source": []
  }
 ],
 "metadata": {
  "kernelspec": {
   "display_name": "Python 2",
   "language": "python",
   "name": "python2"
  }
 },
 "nbformat": 4,
 "nbformat_minor": 2
}
