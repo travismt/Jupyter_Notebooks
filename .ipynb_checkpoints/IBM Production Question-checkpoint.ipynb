{
 "cells": [
  {
   "cell_type": "code",
   "execution_count": 52,
   "metadata": {},
   "outputs": [
    {
     "name": "stdout",
     "output_type": "stream",
     "text": [
      "['2017-11-01', '3', 3] , peach\n",
      "['2017-11-02', '1', 2] , pinapple\n"
     ]
    }
   ],
   "source": [
    "import sys\n",
    "\n",
    "my_file = open('production.txt')\n",
    "db =  {}\n",
    "\n",
    "average_sold = 0\n",
    "\n",
    "line = my_file.readline()\n",
    "while line != '':\n",
    "    split = line.split(',')\n",
    "    key = split[2].replace('\\n','')\n",
    "    \n",
    "   # calculate average of all items sold\n",
    "    if average_sold == 0:\n",
    "        average_sold = int(split[1])\n",
    "    \n",
    "    else:\n",
    "        average_sold = (average_sold + int(split[1]))/2\n",
    "    \n",
    "    # get count of unique items\n",
    "    \n",
    "    if key not in db.keys():\n",
    "        entry = [split[0], split[1], average_sold]\n",
    "        db[key] = entry\n",
    "    #else:\n",
    "    line = my_file.readline()\n",
    "\n",
    "for key, value in db.iteritems():\n",
    "        print value, ',', key\n",
    "  \n",
    "\n",
    "    "
   ]
  },
  {
   "cell_type": "code",
   "execution_count": null,
   "metadata": {
    "collapsed": true
   },
   "outputs": [],
   "source": []
  }
 ],
 "metadata": {
  "kernelspec": {
   "display_name": "Python 2",
   "language": "python",
   "name": "python2"
  },
  "language_info": {
   "codemirror_mode": {
    "name": "ipython",
    "version": 2
   },
   "file_extension": ".py",
   "mimetype": "text/x-python",
   "name": "python",
   "nbconvert_exporter": "python",
   "pygments_lexer": "ipython2",
   "version": "2.7.14"
  }
 },
 "nbformat": 4,
 "nbformat_minor": 2
}
